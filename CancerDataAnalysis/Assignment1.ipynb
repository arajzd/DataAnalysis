{
 "cells": [
  {
   "cell_type": "code",
   "execution_count": 3,
   "metadata": {
    "collapsed": true
   },
   "outputs": [],
   "source": [
    "from __future__ import division\n",
    "import numpy as np\n",
    "import matplotlib.pyplot as plt\n",
    "from csv import reader\n",
    "import random \n",
    "%matplotlib inline\n",
    "from itertools import chain"
   ]
  },
  {
   "cell_type": "code",
   "execution_count": 2,
   "metadata": {},
   "outputs": [],
   "source": [
    "# Load a CSV file\n",
    "def load_csv(filename):\n",
    "\tfile = open(filename, \"r\")\n",
    "\tlines = reader(file)\n",
    "\tdataset = list(lines)\n",
    "\treturn dataset\n"
   ]
  },
  {
   "cell_type": "code",
   "execution_count": 4,
   "metadata": {},
   "outputs": [],
   "source": [
    "def take_second(elem):\n",
    "    return elem[1]"
   ]
  },
  {
   "cell_type": "code",
   "execution_count": 5,
   "metadata": {},
   "outputs": [],
   "source": [
    "def get_sidebar(std, n, N): \n",
    "    return std * np.sqrt((1/n)) * np.sqrt(1 - (n/N))"
   ]
  },
  {
   "cell_type": "code",
   "execution_count": 6,
   "metadata": {},
   "outputs": [],
   "source": [
    "def chunk_it(seq, num):\n",
    "    avg = len(seq) / float(num)\n",
    "    out = []\n",
    "    last = 0.0\n",
    "\n",
    "    while last < len(seq):\n",
    "        out.append(seq[int(last):int(last + avg)])\n",
    "        last += avg\n",
    "\n",
    "    return out"
   ]
  },
  {
   "cell_type": "code",
   "execution_count": 4,
   "metadata": {},
   "outputs": [
    {
     "name": "stdout",
     "output_type": "stream",
     "text": [
      "Loaded data file Datasets/cancer.txt with 301 rows and 2 columns\n"
     ]
    }
   ],
   "source": [
    "# Load dataset\n",
    "filename = 'Datasets/cancer.txt'\n",
    "dataset = load_csv(filename)\n",
    "N = len(dataset)\n",
    "print('Loaded data file {0} with {1} rows and {2} columns').format(filename, len(dataset), len(dataset[0]))"
   ]
  },
  {
   "cell_type": "code",
   "execution_count": 8,
   "metadata": {},
   "outputs": [
    {
     "data": {
      "image/png": "[encoded data removed]",
      "text/plain": [
       "<Figure size 432x288 with 1 Axes>"
      ]
     },
     "metadata": {},
     "output_type": "display_data"
    }
   ],
   "source": [
    "# Histogram of the mortality\n",
    "mortality = [int(col[0]) for col in dataset] \n",
    "population = [int(col[1]) for col in dataset]\n",
    "mortality_pop = [(int(col[0]), int(col[1])) for col in dataset]\n",
    "fig, ax = plt.subplots()\n",
    "n_bins = 10\n",
    "n, bins, patches = plt.hist(mortality, bins=n_bins, edgecolor='black')\n",
    "plt.xticks(np.arange(min(bins), max(bins), max(mortality)/n_bins))\n",
    "plt.xlabel('number of death')\n",
    "plt.ylabel('prevalence')\n",
    "plt.savefig(\"hist_mort.png\")"
   ]
  },
  {
   "cell_type": "code",
   "execution_count": 9,
   "metadata": {
    "collapsed": false
   },
   "outputs": [
    {
     "name": "stdout",
     "output_type": "stream",
     "text": [
      "(39.857142857142854, 11997, 2590.1025154247745, 50.89304977523723)\n"
     ]
    }
   ],
   "source": [
    "# population mean and total cancer mortality, population variance and standard deviation\n",
    "mort_mean = np.mean(mortality)\n",
    "ttl_cancer_mort = np.sum(mortality)\n",
    "mort_var = np.var(mortality)\n",
    "mort_std = np.std(mortality)\n",
    "print(mort_mean, ttl_cancer_mort, mort_var, mort_std)"
   ]
  },
  {
   "cell_type": "code",
   "execution_count": 22,
   "metadata": {},
   "outputs": [
    {
     "data": {
      "image/png": "[encoded data removed]",
      "text/plain": [
       "<Figure size 432x288 with 1 Axes>"
      ]
     },
     "metadata": {},
     "output_type": "display_data"
    }
   ],
   "source": [
    "# sampling distribution of mean of a sample of 25 observations of mortality\n",
    "means = np.zeros([1000, 1])\n",
    "for i in range(0, 1000):  # we are sampling 100 times and using it to get the dist. of mean\n",
    "    means[i] = np.mean(random.sample(mortality, 25, ))\n",
    "\n",
    "fig, ax = plt.subplots()\n",
    "n, bins, patches = plt.hist(means, bins='auto', edgecolor='black')\n",
    "plt.ylabel('Mean distribution') \n",
    "plt.savefig(\"mean_dit.png\")"
   ]
  },
  {
   "cell_type": "code",
   "execution_count": 101,
   "metadata": {},
   "outputs": [],
   "source": [
    "# drawing a simple sample and using it for estimating mean as well as total cancer mortalit\n",
    "def get_statistics(sample_size, N):\n",
    "    simple_sample = random.sample(mortality, sample_size)\n",
    "    mean_ss = np.mean(simple_sample)\n",
    "    total_mort_ss = N*mean_ss\n",
    "    std_ss = np.std(simple_sample)\n",
    "    var_ss = np.var(simple_sample)\n",
    "    return [mean_ss, total_mort_ss, std_ss, var_ss]"
   ]
  },
  {
   "cell_type": "code",
   "execution_count": 102,
   "metadata": {},
   "outputs": [
    {
     "name": "stdout",
     "output_type": "stream",
     "text": [
      "(42.84, 12894.84, 57.49342918977785, 3305.4944)\n(38.76, 11666.76, 51.44300146764378, 2646.3824)\n"
     ]
    }
   ],
   "source": [
    "# computing statistics\n",
    "[mean_25, total_mort_25, std_25, var_25] = get_statistics(25,N)\n",
    "print(mean_25, total_mort_25, std_25, var_25)\n",
    "[mean_100, total_mort_100, std_100, var_100] = get_statistics(100,N)\n",
    "print(mean_100, total_mort_100, std_100, var_100)"
   ]
  },
  {
   "cell_type": "code",
   "execution_count": 29,
   "metadata": {},
   "outputs": [
    {
     "name": "stdout",
     "output_type": "stream",
     "text": [
      "[17.556326568339088, 55.96367343166091]\n[ 5284.45429707 16845.06570293]\n[27.980592156871772, 45.539407843128224]\n[ 8422.15823922 13707.36176078]\n"
     ]
    }
   ],
   "source": [
    "# Computing confidence intervals\n",
    "side_bar_25 = get_sidebar(std_25, 25, N)\n",
    "CI_25 = [mean_25 - 1.96*side_bar_25, mean_25 + 1.96*side_bar_25]\n",
    "print(CI_25)\n",
    "print(np.multiply(CI_25, N))\n",
    "side_bar_100 = get_sidebar(std_100, 100, N)\n",
    "CI_100 = [mean_25 - 1.96*side_bar_100, mean_25 + 1.96*side_bar_100]\n",
    "print(CI_100)\n",
    "print(np.multiply(CI_100, N))"
   ]
  },
  {
   "cell_type": "code",
   "execution_count": 23,
   "metadata": {},
   "outputs": [],
   "source": [
    "# Stratification\n",
    "mortality_pop.sort(key=take_second)\n"
   ]
  },
  {
   "cell_type": "code",
   "execution_count": 111,
   "metadata": {},
   "outputs": [
    {
     "name": "stdout",
     "output_type": "stream",
     "text": [
      "30.875\n9293.375\n"
     ]
    }
   ],
   "source": [
    "random.random()\n",
    "strata_num = 4\n",
    "stratified = chunk_it(mortality_pop, strata_num)\n",
    "samples_num = 6\n",
    "samples = np.zeros((strata_num, samples_num), dtype=[('x', 'int'), ('y', 'int')])\n",
    "mean_samples, ttl_samples = [np.zeros(strata_num) for _ in range(2)] \n",
    "for i in range(0, len(stratified)):\n",
    "    samples[i] = random.sample(stratified[i], samples_num)\n",
    "    mean_samples[i] = np.mean([col[0] for col in samples[i]])\n",
    "    ttl_samples[i] = np.sum([col[0] for col in samples[i]])\n",
    "\n",
    "print(np.mean(mean_samples))\n",
    "print(N*np.mean(mean_samples))"
   ]
  },
  {
   "cell_type": "code",
   "execution_count": 116,
   "metadata": {},
   "outputs": [
    {
     "name": "stdout",
     "output_type": "stream",
     "text": [
      "(581.6024305555555, 3178.245370370371, 4208.729166666667)\n"
     ]
    }
   ],
   "source": [
    "# optimal and proportional allocation\n",
    "\n",
    "# initializing \n",
    "ttl_samples = 24\n",
    "samples_num_propor = int(ttl_samples/strata_num)\n",
    "samples_opt = [[] for i in range(strata_num)]\n",
    "samples_propor = [[]*samples_num]*strata_num\n",
    "mean_samples_opt = np.zeros(strata_num)\n",
    "mean_samples_proper = np.zeros(strata_num)\n",
    "samples_in_strata = np.zeros(strata_num)\n",
    "std_samples = np.zeros(strata_num)\n",
    "num_of_people = np.zeros(strata_num)\n",
    "\n",
    "\n",
    "# compute sigma for each stratum and sum of it\n",
    "for index in range(0, len(stratified)):\n",
    "    std_samples[index] = np.std([col[0] for col in stratified[index]])\n",
    "sum_std = np.sum(np.multiply(std_samples, 1/strata_num))\n",
    "# sample and estimate mean\n",
    "for i in range(0, len(stratified)):\n",
    "    samples_in_strata[i] = round(ttl_samples*(1/strata_num)*std_samples[i]/sum_std)\n",
    "    samples_opt[i].append(random.sample(stratified[i], int(samples_in_strata[i])))\n",
    "    samples_propor[i] = random.sample(stratified[i], int(ttl_samples/strata_num))\n",
    "    mean_samples_opt[i] = np.mean([col[0] for col in samples_opt[i][0]])\n",
    "    mean_samples_proper[i] = np.mean([col[0] for col in samples_propor[i]])\n",
    "\n",
    "print(np.var(mean_samples), np.var(mean_samples_opt), np.var(mean_samples_proper))"
   ]
  }
 ],
 "metadata": {
  "kernelspec": {
   "display_name": "Python 2",
   "language": "python",
   "name": "python2"
  },
  "language_info": {
   "codemirror_mode": {
    "name": "ipython",
    "version": 2
   },
   "file_extension": ".py",
   "mimetype": "text/x-python",
   "name": "python",
   "nbconvert_exporter": "python",
   "pygments_lexer": "ipython2",
   "version": "2.7.6"
  }
 },
 "nbformat": 4,
 "nbformat_minor": 0
}
